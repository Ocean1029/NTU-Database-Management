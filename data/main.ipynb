{
 "cells": [
  {
   "cell_type": "code",
   "execution_count": 10,
   "metadata": {},
   "outputs": [
    {
     "name": "stdout",
     "output_type": "stream",
     "text": [
      "Requirement already satisfied: faker in /Library/Frameworks/Python.framework/Versions/3.12/lib/python3.12/site-packages (33.0.0)\n",
      "Requirement already satisfied: python-dateutil>=2.4 in /Users/nono/Library/Python/3.12/lib/python/site-packages (from faker) (2.9.0.post0)\n",
      "Requirement already satisfied: typing-extensions in /Library/Frameworks/Python.framework/Versions/3.12/lib/python3.12/site-packages (from faker) (4.11.0)\n",
      "Requirement already satisfied: six>=1.5 in /Users/nono/Library/Python/3.12/lib/python/site-packages (from python-dateutil>=2.4->faker) (1.16.0)\n",
      "\n",
      "\u001b[1m[\u001b[0m\u001b[34;49mnotice\u001b[0m\u001b[1;39;49m]\u001b[0m\u001b[39;49m A new release of pip is available: \u001b[0m\u001b[31;49m24.2\u001b[0m\u001b[39;49m -> \u001b[0m\u001b[32;49m24.3.1\u001b[0m\n",
      "\u001b[1m[\u001b[0m\u001b[34;49mnotice\u001b[0m\u001b[1;39;49m]\u001b[0m\u001b[39;49m To update, run: \u001b[0m\u001b[32;49mpip3 install --upgrade pip\u001b[0m\n"
     ]
    }
   ],
   "source": [
    "# Incase you don't have faker installed\n",
    "! pip3 install faker"
   ]
  },
  {
   "cell_type": "code",
   "execution_count": 11,
   "metadata": {},
   "outputs": [
    {
     "name": "stdout",
     "output_type": "stream",
     "text": [
      "      user_id      username    password                      email  \\\n",
      "0           0         ckemp  Bm6_vRxC+%        sarah28@example.net   \n",
      "1           1         rhall  mRXi7YZq@H      yanderson@example.org   \n",
      "2           2       bmurphy  $9YMu9yY0y    murphyshawn@example.org   \n",
      "3           3     patrick20  20Oa66Zb+h      swoodward@example.com   \n",
      "4           4         frowe  +%tR8Oi0!F        fstuart@example.org   \n",
      "...       ...           ...         ...                        ...   \n",
      "9995     9995     anthony69  &rqG0Tit_6    knightbrett@example.com   \n",
      "9996     9996      robert54  @4#VNgLff6  jamesthompson@example.net   \n",
      "9997     9997   newtondebra  R)7^T9GsyC      othompson@example.net   \n",
      "9998     9998     debrawise  +qTbleRe)2    jorgecarter@example.com   \n",
      "9999     9999  kelseydillon  #&0ONZqO@*     orodriguez@example.com   \n",
      "\n",
      "                       phone       role                 created_at  \n",
      "0        +1-607-609-2272x548       user 2024-01-07 03:30:41.766095  \n",
      "1     001-319-232-7830x70111  organizer 2024-12-01 23:55:45.382281  \n",
      "2       001-423-465-3313x361       user 2024-03-15 09:15:11.266069  \n",
      "3         303-351-4439x97817       user 2024-03-15 04:05:01.275244  \n",
      "4      001-967-789-1791x3661       user 2024-04-24 16:03:10.477799  \n",
      "...                      ...        ...                        ...  \n",
      "9995            778.819.9206       user 2024-02-08 01:37:44.834850  \n",
      "9996    +1-604-464-4969x6754       user 2024-07-30 17:05:29.258813  \n",
      "9997         +1-328-904-3664      admin 2024-10-12 07:35:25.671794  \n",
      "9998            441-451-8518       user 2024-11-30 20:44:37.479131  \n",
      "9999    001-563-964-8140x929       user 2024-04-03 03:07:52.484645  \n",
      "\n",
      "[10000 rows x 7 columns]\n",
      "Admin Users: 1018\n",
      "User Users: 6951\n",
      "Organizer Users: 2031\n"
     ]
    },
    {
     "name": "stderr",
     "output_type": "stream",
     "text": [
      "/var/folders/p_/wcg3qcf14tjcjw_8md95qf_m0000gn/T/ipykernel_23333/2792861666.py:36: FutureWarning: Series.__getitem__ treating keys as positions is deprecated. In a future version, integer keys will always be treated as labels (consistent with DataFrame behavior). To access a value by position, use `ser.iloc[pos]`\n",
      "  admin_users = users_df[users_df['role'] == 'admin'].count()[0]\n",
      "/var/folders/p_/wcg3qcf14tjcjw_8md95qf_m0000gn/T/ipykernel_23333/2792861666.py:37: FutureWarning: Series.__getitem__ treating keys as positions is deprecated. In a future version, integer keys will always be treated as labels (consistent with DataFrame behavior). To access a value by position, use `ser.iloc[pos]`\n",
      "  user_users = users_df[users_df['role'] == 'user'].count()[0]\n",
      "/var/folders/p_/wcg3qcf14tjcjw_8md95qf_m0000gn/T/ipykernel_23333/2792861666.py:38: FutureWarning: Series.__getitem__ treating keys as positions is deprecated. In a future version, integer keys will always be treated as labels (consistent with DataFrame behavior). To access a value by position, use `ser.iloc[pos]`\n",
      "  organizer_users = users_df[users_df['role'] == 'organizer'].count()[0]\n"
     ]
    }
   ],
   "source": [
    "import pandas as pd\n",
    "import random\n",
    "from faker import Faker\n",
    "\n",
    "fake = Faker()\n",
    "\n",
    "# Global Variables\n",
    "venue_num = 200\n",
    "event_num = 3000\n",
    "payment_num = 14000\n",
    "order_num = 12000\n",
    "ticket_num = 10000\n",
    "venues = []\n",
    "\n",
    "# Users\n",
    "users = []\n",
    "roles = ['admin', 'user', 'organizer']\n",
    "weights = [0.1, 0.7, 0.2]\n",
    "for i in range(10000):\n",
    "    user = {\n",
    "        \"user_id\": i,\n",
    "        \"username\": fake.user_name(),\n",
    "        \"password\": fake.password(),\n",
    "        \"email\": fake.email(),\n",
    "        \"phone\": fake.phone_number(),\n",
    "        \"role\": random.choices(roles, weights)[0],\n",
    "        \"created_at\": fake.date_time_this_year()\n",
    "    }\n",
    "    users.append(user)\n",
    "    \n",
    "users_df = pd.DataFrame(users)\n",
    "users_df.to_csv(\"users.csv\", index=False)\n",
    "print(users_df)\n",
    "\n",
    "# Some variables\n",
    "admin_users = users_df[users_df['role'] == 'admin'].count()[0]\n",
    "user_users = users_df[users_df['role'] == 'user'].count()[0]\n",
    "organizer_users = users_df[users_df['role'] == 'organizer'].count()[0]\n",
    "organizers = users_df[users_df['role'] == 'organizer']\n",
    "\n",
    "print(f\"Admin Users: {admin_users}\")\n",
    "print(f\"User Users: {user_users}\")\n",
    "print(f\"Organizer Users: {organizer_users}\")\n"
   ]
  },
  {
   "cell_type": "code",
   "execution_count": 12,
   "metadata": {},
   "outputs": [
    {
     "name": "stdout",
     "output_type": "stream",
     "text": [
      "     venue_id                  venue_name  \\\n",
      "0           1                    Diaz PLC   \n",
      "1           2       Mays, Black and Green   \n",
      "2           3                  Barnes Inc   \n",
      "3           4                  Kelley PLC   \n",
      "4           5             Hunter and Sons   \n",
      "..        ...                         ...   \n",
      "195       196               Jones-Aguilar   \n",
      "196       197  Williams, Weeks and Cooper   \n",
      "197       198  Dalton, Ross and Rodriguez   \n",
      "198       199   Smith, Harris and Simmons   \n",
      "199       200               Pearson-Smith   \n",
      "\n",
      "                                               address                city  \\\n",
      "0       50880 Scott Prairie\\nPort Alexisbury, SD 84814            Fordbury   \n",
      "1    075 Daniels Roads Apt. 686\\nPort Davidland, MD...           Lindafurt   \n",
      "2    12194 Ryan Grove Suite 447\\nAlejandrashire, MS...         Stokesmouth   \n",
      "3    650 Jennifer Neck Suite 502\\nLake Alexandria, ...         Nathanville   \n",
      "4    740 Mendez Village Suite 607\\nWalkerview, IN 9...         Manningport   \n",
      "..                                                 ...                 ...   \n",
      "195          60271 Angela Union\\nJohnsonberg, AZ 56165           Blakefurt   \n",
      "196  60800 Nichole Ports Suite 180\\nOrtegaport, CT ...         Melvinmouth   \n",
      "197             8738 Timothy Key\\nMelindaton, TN 51395    Lake Trevorville   \n",
      "198  03162 Lloyd Junction Suite 382\\nBryantshire, W...  South Benjaminland   \n",
      "199        308 Nelson Isle\\nWest Charlesfurt, IA 82366          North Adam   \n",
      "\n",
      "     capacity  \n",
      "0        5412  \n",
      "1        1171  \n",
      "2        9653  \n",
      "3        2731  \n",
      "4        2792  \n",
      "..        ...  \n",
      "195      4975  \n",
      "196      7908  \n",
      "197      3502  \n",
      "198      5054  \n",
      "199      7401  \n",
      "\n",
      "[200 rows x 5 columns]\n"
     ]
    }
   ],
   "source": [
    "# Venues\n",
    "for i in range(1, venue_num + 1):\n",
    "    venues.append({\n",
    "        \"venue_id\": i,\n",
    "        \"venue_name\": fake.company(),\n",
    "        \"address\": fake.address(),\n",
    "        \"city\": fake.city(),\n",
    "        \"capacity\": random.randint(1000, 10000)\n",
    "    })\n",
    "venues_df = pd.DataFrame(venues)\n",
    "venues_df.to_csv(\"venues.csv\", index=False)\n",
    "\n",
    "print(venues_df)"
   ]
  },
  {
   "cell_type": "code",
   "execution_count": 13,
   "metadata": {},
   "outputs": [
    {
     "name": "stdout",
     "output_type": "stream",
     "text": [
      "      event_id                             event_name         performer  \\\n",
      "0            1          Up-sized local knowledge user       Aaron Smith   \n",
      "1            2   Multi-channeled even-keeled alliance      Lauren White   \n",
      "2            3    Centralized attitude-oriented frame     Heather Perez   \n",
      "3            4     Balanced context-sensitive ability     Jerry Schmidt   \n",
      "4            5  Digitized non-volatile data-warehouse   Cheyenne Dawson   \n",
      "...        ...                                    ...               ...   \n",
      "2995      2996         Front-line interactive project   Virginia Bowman   \n",
      "2996      2997      Object-based incremental attitude  Darlene Guerrero   \n",
      "2997      2998        Object-based impactful attitude      Kelli Campos   \n",
      "2998      2999     Function-based human-resource core       Jordan Wise   \n",
      "2999      3000   Object-based asynchronous middleware    Adam Rodriguez   \n",
      "\n",
      "      event_date  venue_id  organizer_id     status  \n",
      "0     2024-06-30       171          6592  Completed  \n",
      "1     2024-11-02        88          6999  Scheduled  \n",
      "2     2024-08-15       192          6609  Scheduled  \n",
      "3     2024-01-27       122          7254  Scheduled  \n",
      "4     2024-01-04       106          5627  Scheduled  \n",
      "...          ...       ...           ...        ...  \n",
      "2995  2024-08-30        32          2969  Scheduled  \n",
      "2996  2024-09-05        91          4647  Scheduled  \n",
      "2997  2024-04-29        40          3442  Scheduled  \n",
      "2998  2024-09-26       191          8169  Completed  \n",
      "2999  2024-11-08       188          4062  Scheduled  \n",
      "\n",
      "[3000 rows x 7 columns]\n"
     ]
    }
   ],
   "source": [
    "# Events\n",
    "events = []\n",
    "statuses = [\"Scheduled\", \"Canceled\", \"Completed\"]\n",
    "statuses_weights = [0.7, 0.1, 0.2]\n",
    "for i in range(1, event_num + 1):\n",
    "    events.append({\n",
    "        \"event_id\": i,\n",
    "        \"event_name\": fake.catch_phrase(),\n",
    "        \"performer\": fake.name(),\n",
    "        \"event_date\": fake.date_this_year(),\n",
    "        \"venue_id\": random.randint(1, venue_num),\n",
    "        \"organizer_id\": random.choice(organizers['user_id'].tolist()),\n",
    "        \"status\": random.choices(statuses, statuses_weights)[0],\n",
    "    })\n",
    "events_df = pd.DataFrame(events)\n",
    "events_df.to_csv(\"events.csv\", index=False)\n",
    "\n",
    "print(events_df)"
   ]
  },
  {
   "cell_type": "code",
   "execution_count": 14,
   "metadata": {},
   "outputs": [
    {
     "name": "stdout",
     "output_type": "stream",
     "text": [
      "        venue_id  seat_number    section     row   seat_type\n",
      "0              1            1  Section-1  Row-37         VIP\n",
      "1              1            2  Section-4  Row-35  Wheelchair\n",
      "2              1            3  Section-6  Row-30     Regular\n",
      "3              1            4  Section-8  Row-32     Regular\n",
      "4              1            5  Section-2  Row-22     Regular\n",
      "...          ...          ...        ...     ...         ...\n",
      "199795       200          995  Section-7  Row-25         VIP\n",
      "199796       200          996  Section-9  Row-24     Regular\n",
      "199797       200          997  Section-8   Row-8         VIP\n",
      "199798       200          998  Section-1  Row-15  Wheelchair\n",
      "199799       200          999  Section-8  Row-33     Regular\n",
      "\n",
      "[199800 rows x 5 columns]\n"
     ]
    }
   ],
   "source": [
    "# Seats\n",
    "seats = []\n",
    "seat_types = [\"Regular\", \"VIP\", \"Wheelchair\"]\n",
    "seat_types_weights = [0.7, 0.2, 0.1]\n",
    "for venue_id in range(1, venue_num + 1):\n",
    "    for seat_number in range(1, 1000):  # 1000 seats per venue\n",
    "        seats.append({\n",
    "            \"venue_id\": venue_id,\n",
    "            \"seat_number\": seat_number,\n",
    "            \"section\": f\"Section-{random.randint(1, 10)}\",\n",
    "            \"row\": f\"Row-{random.randint(1, 40)}\",\n",
    "            \"seat_type\": random.choices(seat_types, seat_types_weights)[0],\n",
    "        })\n",
    "seats_df = pd.DataFrame(seats)\n",
    "seats_df.to_csv(\"seats.csv\", index=False)\n",
    "\n",
    "print(seats_df)"
   ]
  },
  {
   "cell_type": "code",
   "execution_count": 15,
   "metadata": {},
   "outputs": [
    {
     "name": "stdout",
     "output_type": "stream",
     "text": [
      "       order_id  user_id  total_amount                 order_date    status\n",
      "0             1     1995        846.63 2024-05-25 18:10:39.851098   Pending\n",
      "1             2      853        731.97 2024-11-11 00:18:39.895181   Pending\n",
      "2             3     5715        504.86 2024-04-12 23:26:18.572133   Pending\n",
      "3             4     5953        765.68 2024-06-18 02:32:12.312024   Pending\n",
      "4             5     5115        580.94 2024-01-22 06:08:39.655804   Pending\n",
      "...         ...      ...           ...                        ...       ...\n",
      "11995     11996     4358        957.85 2024-02-05 13:10:21.758748   Pending\n",
      "11996     11997     3985        102.21 2024-09-09 15:31:26.955423      Paid\n",
      "11997     11998     4323        465.28 2024-08-08 04:03:24.941129  Canceled\n",
      "11998     11999     3696        994.67 2024-01-29 20:18:50.155556   Pending\n",
      "11999     12000     4937        285.14 2024-06-12 02:09:48.394205   Pending\n",
      "\n",
      "[12000 rows x 5 columns]\n"
     ]
    }
   ],
   "source": [
    "# ORDER\n",
    "orders = []\n",
    "order_statuses = [\"Pending\", \"Paid\", \"Canceled\"]\n",
    "order_statuses_weights = [0.7, 0.2, 0.1]\n",
    "for i in range(1, order_num + 1):\n",
    "    orders.append({\n",
    "        \"order_id\": i,\n",
    "        \"user_id\": random.randint(1, user_users),\n",
    "        \"total_amount\": round(random.uniform(100, 1000), 2),\n",
    "        \"order_date\": fake.date_time_this_year(),\n",
    "        \"status\": random.choices(order_statuses, order_statuses_weights)[0],\n",
    "    })\n",
    "orders_df = pd.DataFrame(orders)\n",
    "orders_df.to_csv(\"orders.csv\", index=False)\n",
    "\n",
    "print(orders_df)"
   ]
  },
  {
   "cell_type": "code",
   "execution_count": 16,
   "metadata": {},
   "outputs": [
    {
     "name": "stdout",
     "output_type": "stream",
     "text": [
      "       payment_id  order_id               payment_date  amount         method  \\\n",
      "0               1         1 2024-04-09 17:44:36.316549  413.38    Credit Card   \n",
      "1               2         2 2024-05-08 17:45:00.526355  243.40  Bank Transfer   \n",
      "2               3         3 2024-11-25 14:55:48.245518  278.12  Bank Transfer   \n",
      "3               4         4 2024-01-15 19:43:08.850514  115.96  Bank Transfer   \n",
      "4               5         5 2024-04-12 08:13:24.370059  116.65         PayPal   \n",
      "...           ...       ...                        ...     ...            ...   \n",
      "13995       13996     13996 2024-02-13 22:21:31.172918  162.60  Bank Transfer   \n",
      "13996       13997     13997 2024-09-10 01:15:01.197558  584.40         PayPal   \n",
      "13997       13998     13998 2024-06-21 22:12:42.343010  640.43  Bank Transfer   \n",
      "13998       13999     13999 2024-07-11 13:56:26.349607  244.68  Bank Transfer   \n",
      "13999       14000     14000 2024-03-28 02:44:37.944090  688.96    Credit Card   \n",
      "\n",
      "        status  \n",
      "0      Pending  \n",
      "1      Pending  \n",
      "2      Pending  \n",
      "3       Failed  \n",
      "4      Pending  \n",
      "...        ...  \n",
      "13995  Pending  \n",
      "13996  Pending  \n",
      "13997  Pending  \n",
      "13998  Pending  \n",
      "13999  Pending  \n",
      "\n",
      "[14000 rows x 6 columns]\n"
     ]
    }
   ],
   "source": [
    "# PAYMENT\n",
    "payments = []\n",
    "payment_methods = [\"Credit Card\", \"PayPal\", \"Bank Transfer\"]\n",
    "payment_statuses = [\"Pending\", \"Completed\", \"Failed\"]\n",
    "payment_statuses_weights = [0.7, 0.2, 0.1]\n",
    "for i in range(1, payment_num + 1):\n",
    "    payments.append({\n",
    "        \"payment_id\": i,\n",
    "        \"order_id\": i,\n",
    "        \"payment_date\": fake.date_time_this_year(),\n",
    "        \"amount\": round(random.uniform(100, 1000), 2),\n",
    "        \"method\": random.choice(payment_methods),\n",
    "        \"status\": random.choices(payment_statuses, payment_statuses_weights)[0],\n",
    "    })\n",
    "payments_df = pd.DataFrame(payments)\n",
    "payments_df.to_csv(\"payments.csv\", index=False)\n",
    "\n",
    "print(payments_df)"
   ]
  },
  {
   "cell_type": "code",
   "execution_count": null,
   "metadata": {},
   "outputs": [
    {
     "name": "stdout",
     "output_type": "stream",
     "text": [
      "      ticket_id  event_id  venue_id  seat_number   price     status\n",
      "0             1       706       101           29  139.27   Reserved\n",
      "1             2       295        58          793  176.93  Available\n",
      "2             3       849        71          452  158.34   Reserved\n",
      "3             4      2091       103          402   57.84  Available\n",
      "4             5      1888       144          255  125.39  Available\n",
      "...         ...       ...       ...          ...     ...        ...\n",
      "9995       9996       850       168          531  151.23   Reserved\n",
      "9996       9997      1168       193          670  158.91  Available\n",
      "9997       9998      1981        68          552  124.66   Reserved\n",
      "9998       9999      2189        63          692  179.39  Available\n",
      "9999      10000      2930        73          602   69.60  Available\n",
      "\n",
      "[10000 rows x 6 columns]\n"
     ]
    }
   ],
   "source": [
    "# TICKET\n",
    "tickets = []\n",
    "ticket_statuses = [\"Available\", \"Reserved\", \"Sold\"]\n",
    "ticket_statuses_weights = [0.7, 0.2, 0.1]\n",
    "for i in range(1, ticket_num + 1):\n",
    "    tickets.append({\n",
    "        \"ticket_id\": i,\n",
    "        \"event_id\": random.randint(1, event_num),\n",
    "        \"venue_id\": random.randint(1, venue_num),\n",
    "        \"seat_number\": random.randint(1, 1000),\n",
    "        \"price\": round(random.uniform(50, 200), 2),\n",
    "        \"status\": random.choices(ticket_statuses, ticket_statuses_weights)[0]\n",
    "    })\n",
    "tickets_df = pd.DataFrame(tickets)\n",
    "tickets_df.to_csv(\"tickets.csv\", index=False)\n",
    "\n",
    "print(tickets_df)"
   ]
  }
 ],
 "metadata": {
  "kernelspec": {
   "display_name": "Python 3",
   "language": "python",
   "name": "python3"
  },
  "language_info": {
   "codemirror_mode": {
    "name": "ipython",
    "version": 3
   },
   "file_extension": ".py",
   "mimetype": "text/x-python",
   "name": "python",
   "nbconvert_exporter": "python",
   "pygments_lexer": "ipython3",
   "version": "3.12.5"
  }
 },
 "nbformat": 4,
 "nbformat_minor": 2
}
